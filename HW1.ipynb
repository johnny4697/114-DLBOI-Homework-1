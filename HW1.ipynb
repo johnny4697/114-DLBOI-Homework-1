{
  "nbformat": 4,
  "nbformat_minor": 0,
  "metadata": {
    "colab": {
      "provenance": [],
      "include_colab_link": true
    },
    "kernelspec": {
      "name": "python3",
      "display_name": "Python 3"
    },
    "language_info": {
      "name": "python"
    }
  },
  "cells": [
    {
      "cell_type": "markdown",
      "metadata": {
        "id": "view-in-github",
        "colab_type": "text"
      },
      "source": [
        "<a href=\"https://colab.research.google.com/github/johnny4697/123/blob/main/HW1.ipynb\" target=\"_parent\"><img src=\"https://colab.research.google.com/assets/colab-badge.svg\" alt=\"Open In Colab\"/></a>"
      ]
    },
    {
      "cell_type": "markdown",
      "source": [
        "# Loop"
      ],
      "metadata": {
        "id": "uYBqFviS2vDc"
      }
    },
    {
      "cell_type": "code",
      "source": [
        "# Print square numbers from 1-10 印出 1-10的平方數\n",
        "for i in range(1, 11):\n",
        "    print(i * i)"
      ],
      "metadata": {
        "id": "t9_gRP302zEw",
        "colab": {
          "base_uri": "https://localhost:8080/"
        },
        "outputId": "baf7cfb2-986a-4289-f74a-ce3803e0f89f"
      },
      "execution_count": null,
      "outputs": [
        {
          "output_type": "stream",
          "name": "stdout",
          "text": [
            "1\n",
            "4\n",
            "9\n",
            "16\n",
            "25\n",
            "36\n",
            "49\n",
            "64\n",
            "81\n",
            "100\n"
          ]
        }
      ]
    },
    {
      "cell_type": "code",
      "source": [
        "# Print 9*9 multiplication table 列印9*9乘法表\n",
        "for i in range(1, 10):\n",
        "    for j in range(1, 10):\n",
        "        print(f\"{j}x{i}={i*j:2d}\", end=\" \")\n",
        "    print()"
      ],
      "metadata": {
        "id": "BmdQRoy021dZ",
        "colab": {
          "base_uri": "https://localhost:8080/"
        },
        "outputId": "aac1c6f9-0576-4419-b7c4-60ec88891a95"
      },
      "execution_count": null,
      "outputs": [
        {
          "output_type": "stream",
          "name": "stdout",
          "text": [
            "1x1= 1 2x1= 2 3x1= 3 4x1= 4 5x1= 5 6x1= 6 7x1= 7 8x1= 8 9x1= 9 \n",
            "1x2= 2 2x2= 4 3x2= 6 4x2= 8 5x2=10 6x2=12 7x2=14 8x2=16 9x2=18 \n",
            "1x3= 3 2x3= 6 3x3= 9 4x3=12 5x3=15 6x3=18 7x3=21 8x3=24 9x3=27 \n",
            "1x4= 4 2x4= 8 3x4=12 4x4=16 5x4=20 6x4=24 7x4=28 8x4=32 9x4=36 \n",
            "1x5= 5 2x5=10 3x5=15 4x5=20 5x5=25 6x5=30 7x5=35 8x5=40 9x5=45 \n",
            "1x6= 6 2x6=12 3x6=18 4x6=24 5x6=30 6x6=36 7x6=42 8x6=48 9x6=54 \n",
            "1x7= 7 2x7=14 3x7=21 4x7=28 5x7=35 6x7=42 7x7=49 8x7=56 9x7=63 \n",
            "1x8= 8 2x8=16 3x8=24 4x8=32 5x8=40 6x8=48 7x8=56 8x8=64 9x8=72 \n",
            "1x9= 9 2x9=18 3x9=27 4x9=36 5x9=45 6x9=54 7x9=63 8x9=72 9x9=81 \n"
          ]
        }
      ]
    },
    {
      "cell_type": "code",
      "source": [
        "# Transpose the 9*9 multiplication table 轉置9*9乘法表\n",
        "for y in range(1, 10):\n",
        "    for x in range(1, 10):\n",
        "        print(f\"{x}x{y}={x*y:2d}\", end=\" \")\n",
        "    print()\n",
        "\n",
        "# 轉置（把列行對調）：\n",
        "for x in range(1, 10):\n",
        "    for y in range(1, 10):\n",
        "        print(f\"{y}x{x}={x*y:2d}\", end=\" \")\n",
        "    print()"
      ],
      "metadata": {
        "id": "kREubzqkR5hT",
        "colab": {
          "base_uri": "https://localhost:8080/"
        },
        "outputId": "8c3fc940-931f-4c5f-b985-01130f526f07"
      },
      "execution_count": null,
      "outputs": [
        {
          "output_type": "stream",
          "name": "stdout",
          "text": [
            "1x1= 1 2x1= 2 3x1= 3 4x1= 4 5x1= 5 6x1= 6 7x1= 7 8x1= 8 9x1= 9 \n",
            "1x2= 2 2x2= 4 3x2= 6 4x2= 8 5x2=10 6x2=12 7x2=14 8x2=16 9x2=18 \n",
            "1x3= 3 2x3= 6 3x3= 9 4x3=12 5x3=15 6x3=18 7x3=21 8x3=24 9x3=27 \n",
            "1x4= 4 2x4= 8 3x4=12 4x4=16 5x4=20 6x4=24 7x4=28 8x4=32 9x4=36 \n",
            "1x5= 5 2x5=10 3x5=15 4x5=20 5x5=25 6x5=30 7x5=35 8x5=40 9x5=45 \n",
            "1x6= 6 2x6=12 3x6=18 4x6=24 5x6=30 6x6=36 7x6=42 8x6=48 9x6=54 \n",
            "1x7= 7 2x7=14 3x7=21 4x7=28 5x7=35 6x7=42 7x7=49 8x7=56 9x7=63 \n",
            "1x8= 8 2x8=16 3x8=24 4x8=32 5x8=40 6x8=48 7x8=56 8x8=64 9x8=72 \n",
            "1x9= 9 2x9=18 3x9=27 4x9=36 5x9=45 6x9=54 7x9=63 8x9=72 9x9=81 \n",
            "1x1= 1 2x1= 2 3x1= 3 4x1= 4 5x1= 5 6x1= 6 7x1= 7 8x1= 8 9x1= 9 \n",
            "1x2= 2 2x2= 4 3x2= 6 4x2= 8 5x2=10 6x2=12 7x2=14 8x2=16 9x2=18 \n",
            "1x3= 3 2x3= 6 3x3= 9 4x3=12 5x3=15 6x3=18 7x3=21 8x3=24 9x3=27 \n",
            "1x4= 4 2x4= 8 3x4=12 4x4=16 5x4=20 6x4=24 7x4=28 8x4=32 9x4=36 \n",
            "1x5= 5 2x5=10 3x5=15 4x5=20 5x5=25 6x5=30 7x5=35 8x5=40 9x5=45 \n",
            "1x6= 6 2x6=12 3x6=18 4x6=24 5x6=30 6x6=36 7x6=42 8x6=48 9x6=54 \n",
            "1x7= 7 2x7=14 3x7=21 4x7=28 5x7=35 6x7=42 7x7=49 8x7=56 9x7=63 \n",
            "1x8= 8 2x8=16 3x8=24 4x8=32 5x8=40 6x8=48 7x8=56 8x8=64 9x8=72 \n",
            "1x9= 9 2x9=18 3x9=27 4x9=36 5x9=45 6x9=54 7x9=63 8x9=72 9x9=81 \n"
          ]
        }
      ]
    },
    {
      "cell_type": "code",
      "source": [
        "# User account password check, so that the user can enter the account password 3 times, the id is root, the password is 1234\n",
        "# 使用者帳號密碼檢查，讓使用者可以輸入3次帳號密碼，ID為root，密碼為1234\n",
        "import getpass\n",
        "\n",
        "def interactive_login():\n",
        "    correct_id = \"root\"\n",
        "    correct_pw = \"1234\"\n",
        "    max_attempts = 3\n",
        "\n",
        "    for attempt in range(1, max_attempts + 1):\n",
        "        user = input(\"Please enter your ID: \").strip()\n",
        "        pw = getpass.getpass(\"Please enter your password: \").strip()\n",
        "        if user == correct_id and pw == correct_pw:\n",
        "            print(\"Login success!\")\n",
        "            return True\n",
        "        else:\n",
        "            print(f\"Login failed! ({attempt}/{max_attempts})\")\n",
        "    print(\"Too many attempts. Bye!\")\n",
        "    return False\n"
      ],
      "metadata": {
        "id": "OdRJWkcX236g"
      },
      "execution_count": null,
      "outputs": []
    },
    {
      "cell_type": "markdown",
      "source": [
        "# Function"
      ],
      "metadata": {
        "id": "bPO4emuqhse3"
      }
    },
    {
      "cell_type": "code",
      "source": [
        "# Write a function to check whether it is even 寫一個函式判斷是否為偶數\n",
        "def is_even(n):\n",
        "    \"\"\"\n",
        "    判斷是否為偶數\n",
        "    輸入: n (整數)\n",
        "    回傳: True (偶數) / False (奇數)\n",
        "    \"\"\"\n",
        "    if isinstance(n, int):\n",
        "        return n % 2 == 0\n",
        "    else:\n",
        "        raise TypeError(\"Input must be an integer\")\n",
        "# 測試\n",
        "print(is_even(2))   # True\n",
        "print(is_even(5))   # False\n",
        "print(is_even(0))   # True"
      ],
      "metadata": {
        "id": "_pX-D2bphwYL",
        "colab": {
          "base_uri": "https://localhost:8080/"
        },
        "outputId": "6e47c127-7963-4142-ce62-8ddf0e0af2bc"
      },
      "execution_count": null,
      "outputs": [
        {
          "output_type": "stream",
          "name": "stdout",
          "text": [
            "True\n",
            "False\n",
            "True\n"
          ]
        }
      ]
    },
    {
      "cell_type": "code",
      "source": [
        "# Write a function to check whether it is even, odd, or not an integer. 寫一個函式判斷該數為偶數、奇數，還是非整數\n",
        "def check_number(n):\n",
        "    if isinstance(n, int) and not isinstance(n, bool):\n",
        "        return \"even\" if n % 2 == 0 else \"odd\"\n",
        "    elif isinstance(n, float) and n.is_integer():\n",
        "        return \"even\" if int(n) % 2 == 0 else \"odd\"\n",
        "    else:\n",
        "        return \"not an integer\"\n",
        "def parse_input(input_str):\n",
        "    items = input_str.split(\",\")\n",
        "    result = []\n",
        "    for item in items:\n",
        "        s = item.strip()\n",
        "        try:\n",
        "            result.append(int(s))\n",
        "            continue\n",
        "        except ValueError:\n",
        "            pass\n",
        "        try:\n",
        "            result.append(float(s))\n",
        "            continue\n",
        "        except ValueError:\n",
        "            pass\n",
        "        result.append(s)\n",
        "    return result\n",
        "user_input = input(\"請輸入一串數字 (用逗號分隔): \")\n",
        "nums = parse_input(user_input)\n",
        "for n in nums:\n",
        "    print(f\"{n} → {check_number(n)}\")"
      ],
      "metadata": {
        "id": "yzeaaVFFWjTf",
        "colab": {
          "base_uri": "https://localhost:8080/"
        },
        "outputId": "86220665-5337-4536-c979-e148b33ec874"
      },
      "execution_count": null,
      "outputs": [
        {
          "output_type": "stream",
          "name": "stdout",
          "text": [
            "請輸入一串數字 (用逗號分隔): 1,2,5,10\n",
            "1 → odd\n",
            "2 → even\n",
            "5 → odd\n",
            "10 → even\n"
          ]
        }
      ]
    },
    {
      "cell_type": "code",
      "source": [
        "# Write a function to check whether it is prime number 寫一個函式判斷是否為質數\n",
        "# 定義：大於1的自然數中，除了1和該數自身外，無法被其他自然數整除的數\n",
        "def is_prime(n):\n",
        "    if n <= 1:\n",
        "        return False\n",
        "    if n <= 3:\n",
        "        return True\n",
        "    if n % 2 == 0 or n % 3 == 0:\n",
        "        return False\n",
        "    i = 5\n",
        "    while i * i <= n:\n",
        "        if n % i == 0 or n % (i + 2) == 0:\n",
        "            return False\n",
        "        i += 6\n",
        "    return True\n",
        "user_input = input(\"請輸入一個整數: \")\n",
        "try:\n",
        "    num = int(user_input)\n",
        "    if is_prime(num):\n",
        "        print(f\"{num} 是質數\")\n",
        "    else:\n",
        "        print(f\"{num} 不是質數\")\n",
        "except ValueError:\n",
        "    print(\"請輸入正確的整數！\")"
      ],
      "metadata": {
        "id": "LA7uy4DYkqZP",
        "colab": {
          "base_uri": "https://localhost:8080/"
        },
        "outputId": "08aa3483-fc66-4ecc-bc29-3f7d7fc2e44b"
      },
      "execution_count": null,
      "outputs": [
        {
          "output_type": "stream",
          "name": "stdout",
          "text": [
            "請輸入一個整數: 29\n",
            "29 是質數\n"
          ]
        }
      ]
    },
    {
      "cell_type": "markdown",
      "source": [
        "# Class"
      ],
      "metadata": {
        "id": "ehjQinHLbZw1"
      }
    },
    {
      "cell_type": "code",
      "source": [
        "# Create a class named BankAccount to simulate a simple bank account. The class should have the following features:\n",
        "# Attributes:\n",
        "#   account_holder (the name of the account holder)\n",
        "#   balance (the balance, default is 0)\n",
        "\n",
        "# Methods:\n",
        "#   deposit(amount): Adds the specified amount to the balance. The amount should be positive. If the amount is not positive, print an appropriate message.\n",
        "#   withdraw(amount): Deducts the specified amount from the balance. The amount should be positive and must not exceed the current balance. If the amount is invalid or exceeds the balance, print an appropriate message.\n",
        "#   get_balance(): Returns the current balance of the account.\n",
        "\n",
        "# Test Cases:\n",
        "#   Create an account with the account holder name \"John Doe\" and an initial balance of 100.\n",
        "#   Deposit 50.\n",
        "#   Attempt to withdraw 200 (should display an error message).\n",
        "#   Withdraw 30.\n",
        "#   Print the final balance."
      ],
      "metadata": {
        "id": "YEVoXGxybjCZ"
      },
      "execution_count": null,
      "outputs": []
    },
    {
      "cell_type": "code",
      "source": [
        "class BankAccount:\n",
        "    def __init__(self, account_holder, balance=0):\n",
        "        self.account_holder = account_holder\n",
        "        self.balance = balance\n",
        "    def deposit(self, amount):\n",
        "        if amount > 0:\n",
        "            self.balance += amount\n",
        "            print(f\"Deposited {amount}. New balance: {self.balance}\")\n",
        "        else:\n",
        "            print(\"Deposit amount must be positive.\")\n",
        "    def withdraw(self, amount):\n",
        "        if amount <= 0:\n",
        "            print(\"Withdraw amount must be positive.\")\n",
        "        elif amount > self.balance:\n",
        "            print(\"Insufficient balance.\")\n",
        "        else:\n",
        "            self.balance -= amount\n",
        "            print(f\"Withdrew {amount}. New balance: {self.balance}\")\n",
        "    def get_balance(self):\n",
        "        return self.balance\n",
        "# 測試\n",
        "account = BankAccount(\"John Doe\", 100)   # 建立帳戶\n",
        "account.deposit(50)                      # 存款 50\n",
        "account.withdraw(200)                    # 提款 200 (失敗)\n",
        "account.withdraw(30)                     # 提款 30\n",
        "print(\"Final balance:\", account.get_balance())  # 查詢最終餘額"
      ],
      "metadata": {
        "id": "nuVVTbqbdYQ3",
        "colab": {
          "base_uri": "https://localhost:8080/"
        },
        "outputId": "19512d6f-9295-4f6e-d9d9-f71a347f0082"
      },
      "execution_count": null,
      "outputs": [
        {
          "output_type": "stream",
          "name": "stdout",
          "text": [
            "Deposited 50. New balance: 150\n",
            "Insufficient balance.\n",
            "Withdrew 30. New balance: 120\n",
            "Final balance: 120\n"
          ]
        }
      ]
    }
  ]
}